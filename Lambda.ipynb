{
 "cells": [
  {
   "cell_type": "code",
   "execution_count": 1,
   "id": "c25568db-d264-4117-974e-2adcbb7cd492",
   "metadata": {
    "tags": []
   },
   "outputs": [
    {
     "ename": "ModuleNotFoundError",
     "evalue": "No module named 'pandas'",
     "output_type": "error",
     "traceback": [
      "\u001b[1;31m---------------------------------------------------------------------------\u001b[0m",
      "\u001b[1;31mModuleNotFoundError\u001b[0m                       Traceback (most recent call last)",
      "Cell \u001b[1;32mIn[1], line 1\u001b[0m\n\u001b[1;32m----> 1\u001b[0m \u001b[38;5;28;01mimport\u001b[39;00m \u001b[38;5;21;01mpandas\u001b[39;00m \u001b[38;5;28;01mas\u001b[39;00m \u001b[38;5;21;01mpd\u001b[39;00m\n\u001b[0;32m      2\u001b[0m \u001b[38;5;28;01mimport\u001b[39;00m \u001b[38;5;21;01mnumpy\u001b[39;00m \u001b[38;5;28;01mas\u001b[39;00m \u001b[38;5;21;01mnp\u001b[39;00m\n",
      "\u001b[1;31mModuleNotFoundError\u001b[0m: No module named 'pandas'"
     ]
    }
   ],
   "source": [
    "import pandas as pd\n",
    "import numpy as np"
   ]
  },
  {
   "cell_type": "code",
   "execution_count": 5,
   "id": "9565a1b9-a8fc-468f-af2f-952c0a5c24c0",
   "metadata": {
    "tags": []
   },
   "outputs": [],
   "source": [
    "import pandas as pd\n",
    "import numpy as np"
   ]
  },
  {
   "cell_type": "code",
   "execution_count": 7,
   "id": "a1bb82af-1e32-41bd-9a06-d33ffbd4a94e",
   "metadata": {
    "tags": []
   },
   "outputs": [],
   "source": [
    "# Creating random data for the DataFrame\n",
    "data = {\n",
    "    'NumericColumn': np.random.randint(1, 100, size=10),  # 10 random integers between 1 and 100\n",
    "    'TextColumn': ['Text' + str(i) for i in range(1, 11)]  # 10 text entries\n",
    "}"
   ]
  },
  {
   "cell_type": "code",
   "execution_count": 9,
   "id": "bd0a6dc6-9b9e-40c2-ac94-39c5c8600ea3",
   "metadata": {
    "tags": []
   },
   "outputs": [],
   "source": [
    "# Creating the DataFrame\n",
    "df = pd.DataFrame(data)"
   ]
  },
  {
   "cell_type": "code",
   "execution_count": 11,
   "id": "75abe0b7-4653-4d0d-9550-f9f7b7fba4db",
   "metadata": {
    "tags": []
   },
   "outputs": [
    {
     "name": "stdout",
     "output_type": "stream",
     "text": [
      "   NumericColumn TextColumn\n",
      "0             53      Text1\n",
      "1             87      Text2\n",
      "2             57      Text3\n",
      "3             49      Text4\n",
      "4             59      Text5\n",
      "5              9      Text6\n",
      "6             25      Text7\n",
      "7              3      Text8\n",
      "8             97      Text9\n",
      "9             80     Text10\n"
     ]
    }
   ],
   "source": [
    "# Displaying the DataFrame\n",
    "print(df)"
   ]
  },
  {
   "cell_type": "code",
   "execution_count": 13,
   "id": "04c2ef29-5a07-4184-8331-0aaf24c174b3",
   "metadata": {
    "tags": []
   },
   "outputs": [],
   "source": [
    "# Adding a new column that is the square of the NumericColumn\n",
    "df['SquaredColumn'] = df['NumericColumn'].apply(lambda x: x ** 2)"
   ]
  },
  {
   "cell_type": "code",
   "execution_count": 15,
   "id": "7cef6ec5-3025-43f7-8286-fcfbc49da3aa",
   "metadata": {
    "tags": []
   },
   "outputs": [
    {
     "name": "stdout",
     "output_type": "stream",
     "text": [
      "   NumericColumn TextColumn  SquaredColumn\n",
      "0             53      Text1           2809\n",
      "1             87      Text2           7569\n",
      "2             57      Text3           3249\n",
      "3             49      Text4           2401\n",
      "4             59      Text5           3481\n",
      "5              9      Text6             81\n",
      "6             25      Text7            625\n",
      "7              3      Text8              9\n",
      "8             97      Text9           9409\n",
      "9             80     Text10           6400\n"
     ]
    }
   ],
   "source": [
    "# Displaying the updated DataFrame\n",
    "print(df)"
   ]
  },
  {
   "cell_type": "code",
   "execution_count": 17,
   "id": "e2a3f561-3f3c-450a-85c2-44618a6713ec",
   "metadata": {
    "tags": []
   },
   "outputs": [],
   "source": [
    "# Adding a flag column based on a condition in the TextColumn\n",
    "# Example condition: If the text ends with '5', mark it as 'Special', else 'Normal'\n",
    "df['FlagColumn'] = df['TextColumn'].apply(lambda x: 'Special' if x.endswith('5') else 'Normal')"
   ]
  },
  {
   "cell_type": "code",
   "execution_count": 19,
   "id": "962c3a38-e727-46eb-ac23-ada0800042b0",
   "metadata": {
    "tags": []
   },
   "outputs": [
    {
     "name": "stdout",
     "output_type": "stream",
     "text": [
      "   NumericColumn TextColumn  SquaredColumn FlagColumn\n",
      "0             53      Text1           2809     Normal\n",
      "1             87      Text2           7569     Normal\n",
      "2             57      Text3           3249     Normal\n",
      "3             49      Text4           2401     Normal\n",
      "4             59      Text5           3481    Special\n",
      "5              9      Text6             81     Normal\n",
      "6             25      Text7            625     Normal\n",
      "7              3      Text8              9     Normal\n",
      "8             97      Text9           9409     Normal\n",
      "9             80     Text10           6400     Normal\n"
     ]
    }
   ],
   "source": [
    "# Displaying the updated DataFrame\n",
    "print(df)"
   ]
  },
  {
   "cell_type": "code",
   "execution_count": null,
   "id": "6f240d5a-7d2b-4f97-b809-4ef336b0f9a5",
   "metadata": {},
   "outputs": [],
   "source": []
  }
 ],
 "metadata": {
  "kernelspec": {
   "display_name": "Python [conda env:20th_century]",
   "language": "python",
   "name": "conda-env-20th_century-py"
  },
  "language_info": {
   "codemirror_mode": {
    "name": "ipython",
    "version": 3
   },
   "file_extension": ".py",
   "mimetype": "text/x-python",
   "name": "python",
   "nbconvert_exporter": "python",
   "pygments_lexer": "ipython3",
   "version": "3.12.4"
  }
 },
 "nbformat": 4,
 "nbformat_minor": 5
}
